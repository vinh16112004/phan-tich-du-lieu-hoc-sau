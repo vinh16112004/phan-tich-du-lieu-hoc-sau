{
 "cells": [
  {
   "cell_type": "code",
   "execution_count": null,
   "metadata": {},
   "outputs": [],
   "source": [
    "import pandas as pd\n",
    "import numpy as np\n",
    "import re\n",
    "\n",
    "#1️ Đọc dữ liệu từ file CSV\n",
    "file_path = \"patient_heart_rate.csv\"\n",
    "df = pd.read_csv(file_path, header=None, on_bad_lines='skip') "
   ]
  },
  {
   "cell_type": "code",
   "execution_count": 3,
   "metadata": {},
   "outputs": [],
   "source": [
    "#2️ Đặt tên cột cho dataset\n",
    "num_cols = df.shape[1]\n",
    "df.columns = [\"ID\"] + [\"Name\", \"Age\", \"Weight\", \"HR1\", \"HR2\", \"HR3\", \"HR4\", \"HR5\", \"HR6\"]"
   ]
  },
  {
   "cell_type": "code",
   "execution_count": 4,
   "metadata": {},
   "outputs": [],
   "source": [
    "\n",
    "#3️ Tách cột Name thành Firstname và Lastname\n",
    "df[['Firstname', 'Lastname']] = df['Name'].str.split(expand=True)\n",
    "df.drop(columns=['Name'], inplace=True)"
   ]
  },
  {
   "cell_type": "code",
   "execution_count": 5,
   "metadata": {},
   "outputs": [
    {
     "name": "stdout",
     "output_type": "stream",
     "text": [
      "Warning: Could not convert value: nan. Returning NaN.\n",
      "Warning: Could not convert value: nan. Returning NaN.\n",
      "Warning: Could not convert value: nan. Returning NaN.\n",
      "Warning: Could not convert value: nan. Returning NaN.\n",
      "Warning: Could not convert value: nan. Returning NaN.\n"
     ]
    }
   ],
   "source": [
    "\n",
    "#4️ Chuyển đổi đơn vị Weight về kg\n",
    "def convert_weight(value):\n",
    "    if \"lbs\" in str(value):\n",
    "        return round(float(str(value).replace(\"lbs\", \"\")) * 0.453592, 2)  # lbs -> kg\n",
    "    # Attempt to extract numeric value using regex and handle potential errors\n",
    "    try:\n",
    "        # Extract numeric part of the string using regex\n",
    "        numeric_value = float(re.findall(r'\\d+', str(value))[0])\n",
    "        return numeric_value\n",
    "    except (IndexError, ValueError):\n",
    "        # Handle cases where numeric value extraction fails\n",
    "        print(f\"Warning: Could not convert value: {value}. Returning NaN.\")\n",
    "        return np.nan  # Replace with NaN for invalid values\n",
    "df[\"Weight\"] = df[\"Weight\"].apply(convert_weight)"
   ]
  },
  {
   "cell_type": "code",
   "execution_count": 6,
   "metadata": {},
   "outputs": [],
   "source": [
    "#5️ Xóa dòng trống và dòng trùng lặp\n",
    "df.dropna(how=\"all\", inplace=True)\n",
    "df.drop_duplicates(inplace=True)\n",
    "     "
   ]
  },
  {
   "cell_type": "code",
   "execution_count": 7,
   "metadata": {},
   "outputs": [],
   "source": [
    "\n",
    "#6️ Xử lý ký tự không phải ASCII\n",
    "def remove_non_ascii(text):\n",
    "    return re.sub(r'[^\\x00-\\x7F]+', '', str(text))\n",
    "df[\"Firstname\"] = df[\"Firstname\"].apply(remove_non_ascii)\n",
    "df[\"Lastname\"] = df[\"Lastname\"].apply(remove_non_ascii)"
   ]
  },
  {
   "cell_type": "code",
   "execution_count": 8,
   "metadata": {},
   "outputs": [],
   "source": [
    "\n",
    "# 7. Xử lý dữ liệu bị thiếu\n",
    "# Thay thế giá trị thiếu ở cột \"Age\" bằng giá trị trung bình\n",
    "age_mean = df[\"Age\"].mean()\n",
    "df[\"Age\"] = df[\"Age\"].fillna(age_mean)  # Không sử dụng inplace=True\n",
    "\n",
    "# Thay thế giá trị thiếu ở cột \"Weight\" bằng giá trị trung bình\n",
    "weight_mean = df[\"Weight\"].mean()\n",
    "df[\"Weight\"] = df[\"Weight\"].fillna(weight_mean)  # Không sử dụng inplace=True\n",
    "\n",
    "# Loại bỏ các dòng có giá trị thiếu ở cả hai cột \"Age\" và \"Weight\"\n",
    "df = df.dropna(subset=[\"Age\", \"Weight\"], how=\"all\")  # Không sử dụng inplace=True\n"
   ]
  },
  {
   "cell_type": "code",
   "execution_count": 9,
   "metadata": {},
   "outputs": [],
   "source": [
    "\n",
    "#8️ Xử lý giá trị thiếu trên HR5\n",
    "def fill_missing_hr(row, col):\n",
    "    hr_cols = [\"HR1\", \"HR2\", \"HR3\", \"HR4\", \"HR5\", \"HR6\"]\n",
    "    idx = hr_cols.index(col)\n",
    "    prev_value = row[hr_cols[idx - 1]] if idx > 0 else np.nan\n",
    "    next_value = row[hr_cols[idx + 1]] if idx < len(hr_cols) - 1 else np.nan\n",
    "\n",
    "    # Convert prev_value and next_value to numeric, handling errors\n",
    "    try:\n",
    "        prev_value = float(prev_value)\n",
    "    except (ValueError, TypeError):\n",
    "        prev_value = np.nan\n",
    "    try:\n",
    "        next_value = float(next_value)\n",
    "    except (ValueError, TypeError):\n",
    "        next_value = np.nan\n",
    "\n",
    "    if pd.notna(prev_value) and pd.notna(next_value):\n",
    "        return (prev_value + next_value) / 2\n",
    "    elif pd.notna(prev_value):\n",
    "        return prev_value\n",
    "    elif pd.notna(next_value):\n",
    "        return next_value"
   ]
  },
  {
   "cell_type": "code",
   "execution_count": 10,
   "metadata": {},
   "outputs": [
    {
     "data": {
      "text/html": [
       "<div>\n",
       "<style scoped>\n",
       "    .dataframe tbody tr th:only-of-type {\n",
       "        vertical-align: middle;\n",
       "    }\n",
       "\n",
       "    .dataframe tbody tr th {\n",
       "        vertical-align: top;\n",
       "    }\n",
       "\n",
       "    .dataframe thead th {\n",
       "        text-align: right;\n",
       "    }\n",
       "</style>\n",
       "<table border=\"1\" class=\"dataframe\">\n",
       "  <thead>\n",
       "    <tr style=\"text-align: right;\">\n",
       "      <th></th>\n",
       "      <th>ID</th>\n",
       "      <th>Age</th>\n",
       "      <th>Weight</th>\n",
       "      <th>HR1</th>\n",
       "      <th>HR2</th>\n",
       "      <th>HR3</th>\n",
       "      <th>HR4</th>\n",
       "      <th>HR5</th>\n",
       "      <th>HR6</th>\n",
       "      <th>Firstname</th>\n",
       "      <th>Lastname</th>\n",
       "    </tr>\n",
       "  </thead>\n",
       "  <tbody>\n",
       "    <tr>\n",
       "      <th>0</th>\n",
       "      <td>1.0</td>\n",
       "      <td>56.000000</td>\n",
       "      <td>70.000000</td>\n",
       "      <td>72</td>\n",
       "      <td>69</td>\n",
       "      <td>71</td>\n",
       "      <td>-</td>\n",
       "      <td>-</td>\n",
       "      <td>-</td>\n",
       "      <td>Micky</td>\n",
       "      <td>Mous</td>\n",
       "    </tr>\n",
       "    <tr>\n",
       "      <th>1</th>\n",
       "      <td>2.0</td>\n",
       "      <td>34.000000</td>\n",
       "      <td>70.260000</td>\n",
       "      <td>-</td>\n",
       "      <td>-</td>\n",
       "      <td>-</td>\n",
       "      <td>85</td>\n",
       "      <td>84</td>\n",
       "      <td>76</td>\n",
       "      <td>Donald</td>\n",
       "      <td>Duck</td>\n",
       "    </tr>\n",
       "    <tr>\n",
       "      <th>2</th>\n",
       "      <td>3.0</td>\n",
       "      <td>16.000000</td>\n",
       "      <td>72.770909</td>\n",
       "      <td>-</td>\n",
       "      <td>-</td>\n",
       "      <td>-</td>\n",
       "      <td>65</td>\n",
       "      <td>69</td>\n",
       "      <td>72</td>\n",
       "      <td>Mini</td>\n",
       "      <td>Mouse</td>\n",
       "    </tr>\n",
       "    <tr>\n",
       "      <th>3</th>\n",
       "      <td>4.0</td>\n",
       "      <td>37.545455</td>\n",
       "      <td>78.000000</td>\n",
       "      <td>78</td>\n",
       "      <td>79</td>\n",
       "      <td>72</td>\n",
       "      <td>-</td>\n",
       "      <td>-</td>\n",
       "      <td>-</td>\n",
       "      <td>Scrooge</td>\n",
       "      <td>McDuck</td>\n",
       "    </tr>\n",
       "    <tr>\n",
       "      <th>4</th>\n",
       "      <td>5.0</td>\n",
       "      <td>54.000000</td>\n",
       "      <td>90.110000</td>\n",
       "      <td>-</td>\n",
       "      <td>-</td>\n",
       "      <td>-</td>\n",
       "      <td>69</td>\n",
       "      <td>NaN</td>\n",
       "      <td>75</td>\n",
       "      <td>Pink</td>\n",
       "      <td>Panther</td>\n",
       "    </tr>\n",
       "  </tbody>\n",
       "</table>\n",
       "</div>"
      ],
      "text/plain": [
       "    ID        Age     Weight HR1 HR2 HR3 HR4  HR5 HR6 Firstname Lastname\n",
       "0  1.0  56.000000  70.000000  72  69  71   -    -   -     Micky     Mous\n",
       "1  2.0  34.000000  70.260000   -   -   -  85   84  76    Donald     Duck\n",
       "2  3.0  16.000000  72.770909   -   -   -  65   69  72      Mini    Mouse\n",
       "3  4.0  37.545455  78.000000  78  79  72   -    -   -   Scrooge   McDuck\n",
       "4  5.0  54.000000  90.110000   -   -   -  69  NaN  75      Pink  Panther"
      ]
     },
     "execution_count": 10,
     "metadata": {},
     "output_type": "execute_result"
    }
   ],
   "source": [
    "# Reindex lại dữ liệu\n",
    "df.reset_index(drop=True, inplace=True)\n",
    "\n",
    "df.head()"
   ]
  }
 ],
 "metadata": {
  "kernelspec": {
   "display_name": "Python 3",
   "language": "python",
   "name": "python3"
  },
  "language_info": {
   "codemirror_mode": {
    "name": "ipython",
    "version": 3
   },
   "file_extension": ".py",
   "mimetype": "text/x-python",
   "name": "python",
   "nbconvert_exporter": "python",
   "pygments_lexer": "ipython3",
   "version": "3.12.3"
  }
 },
 "nbformat": 4,
 "nbformat_minor": 2
}
